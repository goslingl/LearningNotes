{
 "cells": [
  {
   "cell_type": "code",
   "execution_count": 5,
   "metadata": {
    "collapsed": true
   },
   "outputs": [],
   "source": [
    "import numpy as np\n",
    "from scipy import optimize\n",
    "import matplotlib.pyplot as plt"
   ]
  },
  {
   "cell_type": "markdown",
   "metadata": {},
   "source": [
    "## 生成数据"
   ]
  },
  {
   "cell_type": "code",
   "execution_count": 49,
   "metadata": {
    "collapsed": true
   },
   "outputs": [],
   "source": [
    "num_inputs = 2\n",
    "num_examples = 10000\n",
    "true_w = [2, -3.4]\n",
    "true_b = 4.2\n",
    "features = np.random.normal(scale=1, size=(num_examples, num_inputs))\n",
    "labels = true_w[0] * features[:,0] + true_w[1] * features[:, 1] + true_b\n",
    "labels += np.random.normal(scale=0.01, size=labels.shape)\n",
    "\n",
    "features = np.insert(features, features.shape[1], 1, axis=1)\n"
   ]
  },
  {
   "cell_type": "markdown",
   "metadata": {},
   "source": [
    "## 最小二乘"
   ]
  },
  {
   "cell_type": "code",
   "execution_count": 51,
   "metadata": {},
   "outputs": [
    {
     "data": {
      "text/plain": [
       "array([ 2.00001884, -3.40005637,  4.20001027])"
      ]
     },
     "execution_count": 51,
     "metadata": {},
     "output_type": "execute_result"
    }
   ],
   "source": [
    "def residuals(theta, X, Y):\n",
    "    return (Y - np.dot(X, theta))\n",
    "\n",
    "initial_theta = np.random.normal(scale=0.01, size=(3, 1))\n",
    "\n",
    "least_squares = optimize.leastsq(residuals, initial_theta, args=(features, labels))\n",
    "least_squares[0]"
   ]
  }
 ],
 "metadata": {
  "kernelspec": {
   "display_name": "Python 3",
   "language": "python",
   "name": "python3"
  },
  "language_info": {
   "codemirror_mode": {
    "name": "ipython",
    "version": 3
   },
   "file_extension": ".py",
   "mimetype": "text/x-python",
   "name": "python",
   "nbconvert_exporter": "python",
   "pygments_lexer": "ipython3",
   "version": "3.6.2"
  }
 },
 "nbformat": 4,
 "nbformat_minor": 2
}
