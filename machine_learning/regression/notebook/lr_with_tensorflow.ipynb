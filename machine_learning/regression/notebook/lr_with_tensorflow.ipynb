{
 "cells": [
  {
   "cell_type": "code",
   "execution_count": 1,
   "metadata": {},
   "outputs": [
    {
     "name": "stderr",
     "output_type": "stream",
     "text": [
      "d:\\sorf\\anaconda3\\lib\\site-packages\\h5py\\__init__.py:36: FutureWarning: Conversion of the second argument of issubdtype from `float` to `np.floating` is deprecated. In future, it will be treated as `np.float64 == np.dtype(float).type`.\n",
      "  from ._conv import register_converters as _register_converters\n"
     ]
    }
   ],
   "source": [
    "import tensorflow as tf\n",
    "import matplotlib.pyplot as plt\n",
    "import numpy as np"
   ]
  },
  {
   "cell_type": "markdown",
   "metadata": {},
   "source": [
    "### 生成模拟数据，进行测试"
   ]
  },
  {
   "cell_type": "code",
   "execution_count": 2,
   "metadata": {},
   "outputs": [
    {
     "name": "stdout",
     "output_type": "stream",
     "text": [
      "[-13.986268  -10.734733   -8.073329  -15.448169   -4.551571    1.7185707\n",
      "  -7.4722376   4.7964897   2.9364853   6.293375    2.162447    1.4684086\n",
      "  -1.9640236   9.662052   13.29224     4.9750347  12.714321    5.6254883\n",
      "   8.343788   11.69239  ]\n"
     ]
    }
   ],
   "source": [
    "x = np.array(np.arange(100) ,dtype=np.float32)\n",
    "y = np.array(np.arange(100) ,dtype=np.float32)#此时X和Y其实是相等的，后面加入随机值，尽可能真实模拟实际情况\n",
    "y +=(np.random.random_sample(100) * 20)# *20指的是，上波动10\n",
    "y -=20 #下降20，，，y = x+b  -->  y = x - 10\n",
    "print(y[:20])#查看前20列"
   ]
  },
  {
   "cell_type": "markdown",
   "metadata": {},
   "source": [
    "### 设置权重"
   ]
  },
  {
   "cell_type": "code",
   "execution_count": 3,
   "metadata": {
    "collapsed": true
   },
   "outputs": [],
   "source": [
    "#创建变量  \n",
    "#tf.random_normal([1])返回一个符合正太分布的随机数  \n",
    "W=tf.Variable(tf.random_normal([1],name='weight'))  # 权重，由于线性拟合是 一维且线性，在此权值设置一个即可\n",
    "b=tf.Variable(tf.random_normal([1],name='bias'))    # 偏执参数是必须的，作为整体调整的参数\n",
    "\n",
    "# W = tf.Variable(0.0, name=\"weight\")\n",
    "# b = tf.Variable(0.0, name=\"bias\")"
   ]
  },
  {
   "cell_type": "markdown",
   "metadata": {},
   "source": [
    "### 添加占位符"
   ]
  },
  {
   "cell_type": "code",
   "execution_count": 4,
   "metadata": {
    "collapsed": true
   },
   "outputs": [],
   "source": [
    "X = tf.placeholder(tf.float32,[None,1])    #指的是输入\n",
    "Y = tf.placeholder(tf.float32,[None,1])    #指的是输出"
   ]
  },
  {
   "cell_type": "markdown",
   "metadata": {},
   "source": [
    "### 构造损失函数"
   ]
  },
  {
   "cell_type": "code",
   "execution_count": 5,
   "metadata": {
    "collapsed": true
   },
   "outputs": [],
   "source": [
    "loss = tf.reduce_sum(tf.pow(tf.multiply(W,X) + b - Y,2.0))"
   ]
  },
  {
   "cell_type": "markdown",
   "metadata": {},
   "source": [
    "### 添加优化器"
   ]
  },
  {
   "cell_type": "code",
   "execution_count": 6,
   "metadata": {
    "collapsed": true
   },
   "outputs": [],
   "source": [
    "optimizer = tf.train.AdamOptimizer(1).minimize(loss)\n",
    "# optimizer = tf.train.GradientDescentOptimizer(0.1).minimize(loss)"
   ]
  },
  {
   "cell_type": "markdown",
   "metadata": {},
   "source": [
    "### 开始训练"
   ]
  },
  {
   "cell_type": "code",
   "execution_count": 7,
   "metadata": {},
   "outputs": [
    {
     "name": "stdout",
     "output_type": "stream",
     "text": [
      "step: 0 loss:  923758.75 W: [-0.85981715] b: [2.8122025]\n",
      "step: 1 loss:  165715.42 W: [0.10227048] b: [3.7722352]\n",
      "step: 2 loss:  18670.035 W: [0.9657481] b: [4.6269903]\n",
      "step: 3 loss:  254037.94 W: [1.639363] b: [5.2783113]\n",
      "step: 4 loss:  546535.94 W: [2.048647] b: [5.6500006]\n",
      "step: 5 loss:  675056.6 W: [2.191824] b: [5.7469306]\n",
      "step: 6 loss:  608760.75 W: [2.1210024] b: [5.6278133]\n",
      "step: 7 loss:  423895.66 W: [1.8980321] b: [5.357139]\n",
      "step: 8 loss:  217593.08 W: [1.5773941] b: [4.98951]\n",
      "step: 9 loss:  66117.5 W: [1.206378] b: [4.5713124]\n",
      "step: 10 loss:  7953.576 W: [0.82849526] b: [4.144858]\n",
      "step: 11 loss:  39343.027 W: [0.48460564] b: [3.749936]\n",
      "step: 12 loss:  122130.38 W: [0.21017382] b: [3.4214554]\n",
      "step: 13 loss:  204499.31 W: [0.03002214] b: [3.1844199]\n",
      "step: 14 loss:  245923.22 W: [-0.04554225] b: [3.0498857]\n",
      "step: 15 loss:  232294.5 W: [-0.02037898] b: [3.0148442]\n",
      "step: 16 loss:  175393.95 W: [0.09106004] b: [3.0654]\n",
      "step: 17 loss:  101955.64 W: [0.26775444] b: [3.1806712]\n",
      "step: 18 loss:  40274.94 W: [0.48505604] b: [3.3358164]\n",
      "step: 19 loss:  9410.472 W: [0.71668994] b: [3.5042074]\n",
      "step: 20 loss:  13427.051 W: [0.9366373] b: [3.659499]\n",
      "step: 21 loss:  41853.73 W: [1.1214916] b: [3.7781408]\n",
      "step: 22 loss:  75946.625 W: [1.2531621] b: [3.8421497]\n",
      "step: 23 loss:  97858.06 W: [1.3211031] b: [3.841286]\n",
      "step: 24 loss:  98191.81 W: [1.3232164] b: [3.7738094]\n",
      "step: 25 loss:  78586.74 W: [1.2652553] b: [3.645734]\n",
      "step: 26 loss:  49066.0 W: [1.1592419] b: [3.4691668]\n",
      "step: 27 loss:  22358.771 W: [1.0215282] b: [3.260378]\n",
      "step: 28 loss:  8073.311 W: [0.8708053] b: [3.0378797]\n",
      "step: 29 loss:  9032.568 W: [0.72605646] b: [2.820472]\n",
      "step: 30 loss:  20985.113 W: [0.6044234] b: [2.6251857]\n",
      "step: 31 loss:  35494.41 W: [0.51916325] b: [2.4652784]\n",
      "step: 32 loss:  44396.59 W: [0.47808748] b: [2.3486562]\n",
      "step: 33 loss:  43534.996 W: [0.48285332] b: [2.27711]\n",
      "step: 34 loss:  34062.395 W: [0.5292086] b: [2.2465005]\n",
      "step: 35 loss:  21053.475 W: [0.6080052] b: [2.2477355]\n",
      "step: 36 loss:  10504.36 W: [0.7066934] b: [2.2682688]\n",
      "step: 37 loss:  6352.3374 W: [0.81107366] b: [2.2938833]\n",
      "step: 38 loss:  8891.7 W: [0.9071579] b: [2.3105915]\n",
      "step: 39 loss:  15159.386 W: [0.98297805] b: [2.3064687]\n",
      "step: 40 loss:  20872.498 W: [1.0301056] b: [2.2731714]\n",
      "step: 41 loss:  22762.754 W: [1.0446222] b: [2.2068803]\n",
      "step: 42 loss:  20065.484 W: [1.027377] b: [2.1085238]\n",
      "step: 43 loss:  14514.599 W: [0.9835373] b: [1.9833043]\n",
      "step: 44 loss:  9062.429 W: [0.9215733] b: [1.8396797]\n",
      "step: 45 loss:  6166.107 W: [0.8518729] b: [1.6879954]\n",
      "step: 46 loss:  6581.523 W: [0.7851789] b: [1.5389477]\n",
      "step: 47 loss:  9221.936 W: [0.7310427] b: [1.4020612]\n",
      "step: 48 loss:  12015.675 W: [0.6965068] b: [1.2843815]\n",
      "step: 49 loss:  13170.7295 W: [0.68521756] b: [1.1895833]\n",
      "step: 50 loss:  12102.311 W: [0.69710267] b: [1.117635]\n",
      "step: 51 loss:  9561.081 W: [0.728636] b: [1.0650506]\n",
      "step: 52 loss:  7006.4355 W: [0.7736052] b: [1.0256515]\n",
      "step: 53 loss:  5681.817 W: [0.8242283] b: [0.99168646]\n",
      "step: 54 loss:  5949.8486 W: [0.87243843] b: [0.9551231]\n",
      "step: 55 loss:  7224.0225 W: [0.91114396] b: [0.90891165]\n",
      "step: 56 loss:  8451.979 W: [0.93527234] b: [0.84802634]\n",
      "step: 57 loss:  8794.71 W: [0.9424375] b: [0.77012473]\n",
      "step: 58 loss:  8078.999 W: [0.93313587] b: [0.675734]\n",
      "step: 59 loss:  6791.143 W: [0.91046435] b: [0.56796366]\n",
      "step: 60 loss:  5683.2993 W: [0.8794386] b: [0.45182553]\n",
      "step: 61 loss:  5282.944 W: [0.84604573] b: [0.33329403]\n",
      "step: 62 loss:  5612.301 W: [0.81619865] b: [0.2182699]\n",
      "step: 63 loss:  6255.5034 W: [0.79476434] b: [0.11161608]\n",
      "step: 64 loss:  6681.756 W: [0.78482455] b: [0.01642133]\n",
      "step: 65 loss:  6588.8574 W: [0.7872833] b: [-0.06639358]\n",
      "step: 66 loss:  6052.1455 W: [0.80087036] b: [-0.13807583]\n",
      "step: 67 loss:  5415.5527 W: [0.8225154] b: [-0.20166895]\n",
      "step: 68 loss:  5031.906 W: [0.8480057] b: [-0.2613567]\n",
      "step: 69 loss:  5038.5356 W: [0.8727969] b: [-0.32165283]\n",
      "step: 70 loss:  5304.99 W: [0.8928286] b: [-0.38658625]\n",
      "step: 71 loss:  5560.0757 W: [0.9052028] b: [-0.4590256]\n",
      "step: 72 loss:  5589.3755 W: [0.9086118] b: [-0.5402545]\n",
      "step: 73 loss:  5364.6245 W: [0.90345365] b: [-0.6298587]\n",
      "step: 74 loss:  5031.123 W: [0.89163387] b: [-0.72592574]\n",
      "step: 75 loss:  4783.3066 W: [0.87610817] b: [-0.82549995]\n",
      "step: 76 loss:  4727.8643 W: [0.8602666] b: [-0.9251945]\n",
      "step: 77 loss:  4827.146 W: [0.8472803] b: [-1.0218403]\n",
      "step: 78 loss:  4948.2104 W: [0.8395334] b: [-1.1130517]\n",
      "step: 79 loss:  4968.1245 W: [0.83823955] b: [-1.1976072]\n",
      "step: 80 loss:  4855.4727 W: [0.84330434] b: [-1.2755886]\n",
      "step: 81 loss:  4676.3384 W: [0.8534427] b: [-1.3482639]\n",
      "step: 82 loss:  4532.4927 W: [0.8665138] b: [-1.4177537]\n",
      "step: 83 loss:  4485.0684 W: [0.8799938] b: [-1.4865602]\n",
      "step: 84 loss:  4518.8564 W: [0.8914891] b: [-1.5570557]\n",
      "step: 85 loss:  4565.681 W: [0.89918756] b: [-1.6310327]\n",
      "step: 86 loss:  4561.129 W: [0.90216506] b: [-1.7093995]\n",
      "step: 87 loss:  4489.3276 W: [0.90049654] b: [-1.7920703]\n",
      "step: 88 loss:  4385.938 W: [0.8951633] b: [-1.8780581]\n",
      "step: 89 loss:  4303.9 W: [0.88778806] b: [-1.9657382]\n",
      "step: 90 loss:  4272.428 W: [0.88026226] b: [-2.0532188]\n",
      "step: 91 loss:  4279.9014 W: [0.8743471] b: [-2.1387386]\n",
      "step: 92 loss:  4289.1885 W: [0.8713299] b: [-2.2210073]\n",
      "step: 93 loss:  4269.0464 W: [0.8718015] b: [-2.2994285]\n",
      "step: 94 loss:  4215.9883 W: [0.87559146] b: [-2.3741636]\n",
      "step: 95 loss:  4152.0894 W: [0.88186353] b: [-2.446037]\n",
      "step: 96 loss:  4104.2173 W: [0.88934076] b: [-2.5163126]\n",
      "step: 97 loss:  4083.172 W: [0.8966043] b: [-2.5863945]\n",
      "step: 98 loss:  4078.3223 W: [0.90239966] b: [-2.6575243]\n",
      "step: 99 loss:  4069.252 W: [0.90588516] b: [-2.730532]\n",
      "step: 100 loss:  4042.858 W: [0.90677553] b: [-2.8056943]\n",
      "step: 101 loss:  4002.0237 W: [0.90535706] b: [-2.8827195]\n",
      "step: 102 loss:  3960.6533 W: [0.9023804] b: [-2.960854]\n",
      "step: 103 loss:  3931.084 W: [0.89886296] b: [-3.0390794]\n",
      "step: 104 loss:  3914.8296 W: [0.89584905] b: [-3.1163507]\n",
      "step: 105 loss:  3903.2583 W: [0.8941829] b: [-3.1918218]\n",
      "step: 106 loss:  3886.0496 W: [0.8943422] b: [-3.2650123]\n",
      "step: 107 loss:  3859.5342 W: [0.896364] b: [-3.3358798]\n",
      "step: 108 loss:  3828.4224 W: [0.899873] b: [-3.404793]\n",
      "step: 109 loss:  3800.6155 W: [0.9041978] b: [-3.4724152]\n",
      "step: 110 loss:  3780.3877 W: [0.90854335] b: [-3.539533]\n",
      "step: 111 loss:  3765.5947 W: [0.91217756] b: [-3.6068702]\n",
      "step: 112 loss:  3750.4993 W: [0.91458917] b: [-3.6749313]\n",
      "step: 113 loss:  3730.9895 W: [0.915584] b: [-3.7439053]\n",
      "step: 114 loss:  3707.6067 W: [0.91530234] b: [-3.8136487]\n",
      "step: 115 loss:  3684.2852 W: [0.9141592] b: [-3.883745]\n",
      "step: 116 loss:  3664.5586 W: [0.9127275] b: [-3.9536202]\n",
      "step: 117 loss:  3648.7288 W: [0.9115941] b: [-4.0226874]\n",
      "step: 118 loss:  3634.1765 W: [0.9112243] b: [-4.090481]\n",
      "step: 119 loss:  3618.0264 W: [0.91186464] b: [-4.1567516]\n",
      "step: 120 loss:  3599.557 W: [0.91350454] b: [-4.221508]\n",
      "step: 121 loss:  3580.4224 W: [0.9159001] b: [-4.28499]\n",
      "step: 122 loss:  3562.8486 W: [0.9186507] b: [-4.3475933]\n",
      "step: 123 loss:  3547.6636 W: [0.9213059] b: [-4.409765]\n",
      "step: 124 loss:  3533.8389 W: [0.92347574] b: [-4.47189]\n",
      "step: 125 loss:  3519.6797 W: [0.9249176] b: [-4.5342083]\n",
      "step: 126 loss:  3504.3706 W: [0.9255813] b: [-4.5967674]\n",
      "step: 127 loss:  3488.5112 W: [0.9256048] b: [-4.659429]\n",
      "step: 128 loss:  3473.348 W: [0.9252655] b: [-4.7219152]\n",
      "step: 129 loss:  3459.5884 W: [0.9249012] b: [-4.783889]\n",
      "step: 130 loss:  3446.8816 W: [0.924824] b: [-4.8450384]\n",
      "step: 131 loss:  3434.3013 W: [0.92524666] b: [-4.905151]\n",
      "step: 132 loss:  3421.2466 W: [0.9262393] b: [-4.9641557]\n",
      "step: 133 loss:  3407.9033 W: [0.92772454] b: [-5.0221295]\n",
      "step: 134 loss:  3394.9353 W: [0.929509] b: [-5.0792637]\n",
      "step: 135 loss:  3382.8184 W: [0.9313407] b: [-5.135809]\n",
      "step: 136 loss:  3371.4446 W: [0.93297666] b: [-5.192006]\n",
      "step: 137 loss:  3360.3184 W: [0.93424207] b: [-5.248029]\n",
      "step: 138 loss:  3349.061 W: [0.9350682] b: [-5.303947]\n",
      "step: 139 loss:  3337.72 W: [0.9355004] b: [-5.3597136]\n",
      "step: 140 loss:  3326.6484 W: [0.9356768] b: [-5.415192]\n",
      "step: 141 loss:  3316.129 W: [0.9357858] b: [-5.470196]\n",
      "step: 142 loss:  3306.1284 W: [0.9360137] b: [-5.524539]\n",
      "step: 143 loss:  3296.38 W: [0.93649805] b: [-5.578086]\n",
      "step: 144 loss:  3286.66 W: [0.9372964] b: [-5.6307797]\n",
      "step: 145 loss:  3276.9802 W: [0.9383787] b: [-5.682651]\n",
      "step: 146 loss:  3267.5327 W: [0.9396426] b: [-5.733803]\n",
      "step: 147 loss:  3258.4739 W: [0.94094604] b: [-5.7843776]\n",
      "step: 148 loss:  3249.788 W: [0.94214743] b: [-5.8345165]\n",
      "step: 149 loss:  3241.3237 W: [0.9431424] b: [-5.8843255]\n",
      "step: 150 loss:  3232.9563 W: [0.9438877] b: [-5.9338484]\n",
      "step: 151 loss:  3224.6965 W: [0.9444073] b: [-5.9830627]\n",
      "step: 152 loss:  3216.646 W: [0.9447801] b: [-6.0318913]\n",
      "step: 153 loss:  3208.89 W: [0.94511455] b: [-6.080228]\n",
      "step: 154 loss:  3201.4104 W: [0.9455173] b: [-6.127968]\n",
      "step: 155 loss:  3194.121 W: [0.9460651] b: [-6.175037]\n",
      "step: 156 loss:  3186.9548 W: [0.9467872] b: [-6.221408]\n",
      "step: 157 loss:  3179.9219 W: [0.9476612] b: [-6.2671046]\n",
      "step: 158 loss:  3173.08 W: [0.9486243] b: [-6.312192]\n",
      "step: 159 loss:  3166.4707 W: [0.94959307] b: [-6.356755]\n",
      "step: 160 loss:  3160.0745 W: [0.9504881] b: [-6.400874]\n",
      "step: 161 loss:  3153.8418 W: [0.9512551] b: [-6.4446063]\n",
      "step: 162 loss:  3147.7375 W: [0.9518774] b: [-6.48797]\n",
      "step: 163 loss:  3141.7715 W: [0.9523773] b: [-6.5309453]\n",
      "step: 164 loss:  3135.9775 W: [0.9528064] b: [-6.5734835]\n",
      "step: 165 loss:  3130.3704 W: [0.95322907] b: [-6.6155233]\n",
      "step: 166 loss:  3124.9346 W: [0.95370334] b: [-6.657009]\n",
      "step: 167 loss:  3119.639 W: [0.9542658] b: [-6.6979074]\n",
      "step: 168 loss:  3114.4673 W: [0.9549231] b: [-6.738214]\n",
      "step: 169 loss:  3109.4294 W: [0.95565283] b: [-6.777954]\n",
      "step: 170 loss:  3104.5413 W: [0.95641243] b: [-6.8171725]\n",
      "step: 171 loss:  3099.8074 W: [0.9571528] b: [-6.8559213]\n",
      "step: 172 loss:  3095.2126 W: [0.95783263] b: [-6.894244]\n",
      "step: 173 loss:  3090.7402 W: [0.9584295] b: [-6.932167]\n",
      "step: 174 loss:  3086.3838 W: [0.9589443] b: [-6.9696913]\n",
      "step: 175 loss:  3082.1484 W: [0.9593992] b: [-7.006798]\n",
      "step: 176 loss:  3078.0427 W: [0.9598294] b: [-7.043455]\n",
      "step: 177 loss:  3074.0637 W: [0.9602717] b: [-7.0796294]\n",
      "step: 178 loss:  3070.2017 W: [0.9607542] b: [-7.1152964]\n",
      "step: 179 loss:  3066.445 W: [0.9612889] b: [-7.150447]\n",
      "step: 180 loss:  3062.7937 W: [0.9618697] b: [-7.18509]\n",
      "step: 181 loss:  3059.2507 W: [0.96247566] b: [-7.2192507]\n",
      "step: 182 loss:  3055.8174 W: [0.96307856] b: [-7.2529593]\n",
      "step: 183 loss:  3052.4893 W: [0.9636517] b: [-7.2862463]\n",
      "step: 184 loss:  3049.2595 W: [0.9641776] b: [-7.3191323]\n",
      "step: 185 loss:  3046.1226 W: [0.9646521] b: [-7.351625]\n",
      "step: 186 loss:  3043.0784 W: [0.96508473] b: [-7.3837185]\n",
      "step: 187 loss:  3040.1274 W: [0.9654944] b: [-7.415397]\n",
      "step: 188 loss:  3037.2693 W: [0.9659031] b: [-7.4466424]\n",
      "step: 189 loss:  3034.499 W: [0.9663293] b: [-7.47744]\n",
      "step: 190 loss:  3031.8125 W: [0.9667825] b: [-7.507783]\n",
      "step: 191 loss:  3029.2065 W: [0.96726155] b: [-7.537677]\n",
      "step: 192 loss:  3026.6814 W: [0.9677558] b: [-7.567136]\n",
      "step: 193 loss:  3024.2349 W: [0.9682491] b: [-7.596179]\n",
      "step: 194 loss:  3021.8667 W: [0.96872526] b: [-7.624827]\n",
      "step: 195 loss:  3019.5728 W: [0.9691729] b: [-7.653094]\n",
      "step: 196 loss:  3017.349 W: [0.96958846] b: [-7.680987]\n",
      "step: 197 loss:  3015.1953 W: [0.96997654] b: [-7.7085056]\n",
      "step: 198 loss:  3013.1106 W: [0.9703479] b: [-7.735643]\n",
      "step: 199 loss:  3011.093 W: [0.97071546] b: [-7.762389]\n"
     ]
    }
   ],
   "source": [
    "init = tf.global_variables_initializer()\n",
    "save_step_loss = {\"step\":[],\"loss\":[]}# 保存step和loss用于可视化操作\n",
    "line_k = 0\n",
    "line_b = 0\n",
    "with tf.Session() as sess:\n",
    "    sess.run(init)\n",
    "    for step in range(200):   #一千次迭代\n",
    "        sess.run(optimizer,feed_dict={X:x.reshape(-1,1),Y:y.reshape(-1,1)})\n",
    "        print(\"step:\",step,\n",
    "              \"loss: \",sess.run(loss,feed_dict={X:x.reshape(-1,1),Y:y.reshape(-1,1)}),\n",
    "              \"W:\",sess.run(W),\n",
    "              \"b:\",sess.run(b))\n",
    "        save_step_loss[\"step\"].append(step)\n",
    "        save_step_loss[\"loss\"].append(sess.run(loss,feed_dict={X:x.reshape(-1,1),Y:y.reshape(-1,1)}))\n",
    "    line_k = sess.run(W)\n",
    "    line_b = sess.run(b)"
   ]
  },
  {
   "cell_type": "code",
   "execution_count": 8,
   "metadata": {},
   "outputs": [
    {
     "data": {
      "image/png": "[encoded data removed]",
      "text/plain": [
       "<matplotlib.figure.Figure at 0x1db43f6fe48>"
      ]
     },
     "metadata": {},
     "output_type": "display_data"
    }
   ],
   "source": [
    "plt.plot(save_step_loss[\"step\"],save_step_loss[\"loss\"])\n",
    "plt.show()"
   ]
  },
  {
   "cell_type": "code",
   "execution_count": 9,
   "metadata": {},
   "outputs": [
    {
     "data": {
      "text/plain": [
       "[<matplotlib.lines.Line2D at 0x1db44031748>]"
      ]
     },
     "execution_count": 9,
     "metadata": {},
     "output_type": "execute_result"
    },
    {
     "data": {
      "image/png": "[encoded data removed]",
      "text/plain": [
       "<matplotlib.figure.Figure at 0x1db440316a0>"
      ]
     },
     "metadata": {},
     "output_type": "display_data"
    }
   ],
   "source": [
    "plt.scatter(x,y,5,c=\"r\")\n",
    "plt.plot([0,100],[0 * line_k + line_b , 100 * line_k + line_b])"
   ]
  },
  {
   "cell_type": "code",
   "execution_count": null,
   "metadata": {
    "collapsed": true
   },
   "outputs": [],
   "source": []
  },
  {
   "cell_type": "code",
   "execution_count": null,
   "metadata": {
    "collapsed": true
   },
   "outputs": [],
   "source": []
  }
 ],
 "metadata": {
  "kernelspec": {
   "display_name": "Python 3",
   "language": "python",
   "name": "python3"
  },
  "language_info": {
   "codemirror_mode": {
    "name": "ipython",
    "version": 3
   },
   "file_extension": ".py",
   "mimetype": "text/x-python",
   "name": "python",
   "nbconvert_exporter": "python",
   "pygments_lexer": "ipython3",
   "version": "3.6.2"
  }
 },
 "nbformat": 4,
 "nbformat_minor": 2
}
